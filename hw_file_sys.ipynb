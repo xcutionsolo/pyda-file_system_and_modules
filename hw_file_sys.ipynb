{
 "cells": [
  {
   "cell_type": "code",
   "execution_count": null,
   "metadata": {},
   "outputs": [],
   "source": [
    "# Домашнее задание\n",
    "1. Переведите содержимое файла purchase_log.txt в словарь purchases вида:\n",
    "```python\n",
    "{'1840e0b9d4': 'Продукты', ...}\n",
    "```\n",
    "\n",
    "2. Для каждого user_id в файле visit_log.csv добавьте третий столбец с категорией покупки (если покупка была).\n",
    "\n",
    "3. Запишите в файл funnel.csv визиты из файла visit_log.csv, в которых были покупки с указанием категории.\n",
    "\n",
    "Учтите условия на данные:\n",
    "- содержимое purchase_log.txt помещается в оперативную память компьютера\n",
    "- содержимое visit_log.csv - нет; используйте только построчную обработку этого файла"
   ]
  },
  {
   "cell_type": "code",
   "execution_count": null,
   "metadata": {},
   "outputs": [],
   "source": [
    "#1\n",
    "purchases={}\n",
    "with  open('purchase_log.txt', 'r', encoding='utf-8') as logs:\n",
    "    for line in logs:\n",
    "        line = line.strip()\n",
    "        line = json.loads(line)\n",
    "        purchases[line['user_id']]=line['category']"
   ]
  },
  {
   "cell_type": "code",
   "execution_count": null,
   "metadata": {},
   "outputs": [],
   "source": [
    "#2\n",
    "n = 0\n",
    "with open('visit_log.csv', 'r', encoding='utf-8') as logs:\n",
    "    with open('visit_log1.csv', 'w', encoding='utf-8') as new_logs:\n",
    "        while n != len(logs.readlines()):\n",
    "            n += 1\n",
    "            line = logs.readline()\n",
    "            if set([line.strip().split(',')[0]]) & set(purchases.keys()) == set():\n",
    "                new_logs.write(line)               \n",
    "            else:\n",
    "                line = line.strip() + ',' + purchases[line.strip().split(',')[0]] + '\\n'\n",
    "                new_logs.write(line)"
   ]
  },
  {
   "cell_type": "code",
   "execution_count": null,
   "metadata": {},
   "outputs": [],
   "source": [
    "#3\n",
    "n = 0\n",
    "with open('visit_log1.csv', 'r', encoding='utf-8') as logs:\n",
    "    with open('funnel.csv', 'w', encoding='utf-8') as spec_logs:\n",
    "        while n != len(logs.readlines()):\n",
    "            n +=1\n",
    "            line = logs.readline()\n",
    "            if len(line.strip().split(',')) == 3:\n",
    "                spec_logs.write(line)\n",
    "    "
   ]
  },
  {
   "cell_type": "code",
   "execution_count": null,
   "metadata": {},
   "outputs": [],
   "source": []
  }
 ],
 "metadata": {
  "kernelspec": {
   "display_name": "Python 3",
   "language": "python",
   "name": "python3"
  },
  "language_info": {
   "codemirror_mode": {
    "name": "ipython",
    "version": 3
   },
   "file_extension": ".py",
   "mimetype": "text/x-python",
   "name": "python",
   "nbconvert_exporter": "python",
   "pygments_lexer": "ipython3",
   "version": "3.7.4"
  }
 },
 "nbformat": 4,
 "nbformat_minor": 2
}
